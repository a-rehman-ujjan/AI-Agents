{
  "nbformat": 4,
  "nbformat_minor": 0,
  "metadata": {
    "colab": {
      "provenance": []
    },
    "kernelspec": {
      "name": "python3",
      "display_name": "Python 3"
    },
    "language_info": {
      "name": "python"
    }
  },
  "cells": [
    {
      "cell_type": "code",
      "execution_count": null,
      "metadata": {
        "id": "QJWdclILzoNz"
      },
      "outputs": [],
      "source": [
        "pip install -U --quiet langchain_google_genai langgraph langchain"
      ]
    },
    {
      "cell_type": "code",
      "source": [
        "pip install langchain-google-genai"
      ],
      "metadata": {
        "id": "kjjFQyIH0ivh",
        "collapsed": true
      },
      "execution_count": null,
      "outputs": []
    },
    {
      "cell_type": "code",
      "source": [
        "from typing import TypedDict\n",
        "from langgraph.graph import StateGraph, END\n",
        "import google.generativeai as gena\n",
        "from google.colab import userdata\n",
        "from langchain_core.prompts import ChatPromptTemplate\n",
        "import os\n",
        "import google.generativeai as genai\n",
        "from langchain_google_genai import GoogleGenerativeAI\n",
        "import re\n",
        "\n",
        "GEMINI_API_KEY = userdata.get(\"GEMINI_API_KEY\")\n",
        "\n",
        "genai.configure(api_key=GEMINI_API_KEY)\n",
        "\n",
        "model = genai.GenerativeModel(\"gemini-1.5-flash\")\n",
        "\n",
        "llm = GoogleGenerativeAI(google_api_key=GEMINI_API_KEY, model=\"gemini-1.5-flash\")\n",
        "print(llm)"
      ],
      "metadata": {
        "id": "-FAM0K3p0xZK",
        "colab": {
          "base_uri": "https://localhost:8080/"
        },
        "outputId": "785211a4-2df8-4ebc-8fd5-5fd5fa9b87f8"
      },
      "execution_count": 3,
      "outputs": [
        {
          "output_type": "stream",
          "name": "stdout",
          "text": [
            "\u001b[1mGoogleGenerativeAI\u001b[0m\n",
            "Params: {'model': 'gemini-1.5-flash', 'temperature': 0.7, 'top_p': None, 'top_k': None, 'max_output_tokens': None, 'candidate_count': 1}\n"
          ]
        }
      ]
    },
    {
      "cell_type": "code",
      "source": [
        "class STATE(TypedDict):\n",
        "    \"\"\"Represents the state of the essay grading process.\"\"\"\n",
        "    essay: str\n",
        "    relevence_score: float\n",
        "    grammar_score: float\n",
        "    fluency_score: float\n",
        "    overall_score: float\n",
        "    suggested_edits: str\n",
        "    topic: str"
      ],
      "metadata": {
        "id": "IhRxhAFQ11E9"
      },
      "execution_count": 4,
      "outputs": []
    },
    {
      "cell_type": "code",
      "source": [
        "def get_score(content: str) -> float:\n",
        "    \"\"\"Extract the numeric score from the LLM's response.\"\"\"\n",
        "    match = re.search(r'Score:\\s*(\\d+(\\.\\d+)?)', content)\n",
        "    if match:\n",
        "        return float(match.group(1))\n",
        "    else:\n",
        "      print(f\"Warning: Could not extract score from response: {content}\")\n",
        "      return 0\n",
        "\n",
        "def check_relevance(state: STATE) -> STATE:\n",
        "    \"\"\"Check the relevance of the essay.\"\"\"\n",
        "    prompt = ChatPromptTemplate.from_template(\n",
        "        \"Analyze the relevance of the following essay to the given topic.\"\n",
        "        \"Provide a relevance score between 0 and 4, if essay is completely off topic do not exceed the score by 1\"\n",
        "        \"Your response should start with 'Score: ' followed by the numeric score, \"\n",
        "        \"then provide your explanation.\\n\\nTopic: {topic}\\nEssay: {essay}\"\n",
        "    )\n",
        "    prompt_string = prompt.format_prompt(essay=state[\"essay\"], topic=state[\"topic\"]).to_string()\n",
        "    response = llm(prompt_string) # Pass the string prompt to the llm\n",
        "    state[\"relevence_score\"] = get_score(response)\n",
        "    return state\n",
        "\n",
        "def check_grammar(state: STATE) -> STATE:\n",
        "    \"\"\"Check the grammar of the essay.\"\"\"\n",
        "    prompt = ChatPromptTemplate.from_template(\n",
        "        \"Analyze the grammar of the following essay.\"\n",
        "        \"Provide a grammar score between 0 and 3\"\n",
        "        \"Your response should start with 'Score: ' followed by the numeric score, \"\n",
        "        \"then provide your explanation.\\n\\nEssay: {essay}\"\n",
        "    )\n",
        "    prompt_string = prompt.format_prompt(essay=state[\"essay\"]).to_string()\n",
        "    response = llm(prompt_string) # Pass the string prompt to the llm\n",
        "    state[\"grammar_score\"] = get_score(response)\n",
        "    return state\n",
        "\n",
        "def check_fluency(state: STATE) -> STATE:\n",
        "    \"\"\"Check the fluency of the essay.\"\"\"\n",
        "    prompt = ChatPromptTemplate.from_template(\n",
        "        \"Analyze the fluency of the following essay. \"\n",
        "        \"Provide a fluency score between 0 and 3\"\n",
        "        \"Your response should start with 'Score: ' followed by the numeric score, \"\n",
        "        \"then provide your explanation.\\n\\nEssay: {essay}\"\n",
        "    )\n",
        "    prompt_string = prompt.format_prompt(essay=state[\"essay\"]).to_string()\n",
        "    response = llm(prompt_string) # Pass the string prompt to the llm\n",
        "    state[\"fluency_score\"] = get_score(response)\n",
        "    return state\n",
        "\n",
        "def suggest_edits(state: STATE) -> STATE:\n",
        "    \"\"\"Suggest edits to the essay.\"\"\"\n",
        "    essay = state[\"essay\"]\n",
        "    relevence_score  = state[\"relevence_score\"]\n",
        "    grammar_score = state[\"grammar_score\"]\n",
        "    fluency_score = state[\"fluency_score\"]\n",
        "    topic = state[\"topic\"]\n",
        "    prompt = ChatPromptTemplate.from_template(\n",
        "        \"You are an expert essay grader. check the scores and suggest changes in the following essay to improve the score. \\n\\n relevance_score: {relevance_score}\\n grammar_score: {grammar_score}\\n fluency_score: {fluency_score}\\n\"\n",
        "        \"check the topic and match it with the essay and check for improvements in the relevance if the essay is completely off topic and doesn't seem to be related to the topic, simply inform the user that the essay seems to be completely off topic and needs to be rewritten from ground zero\"\n",
        "        \"Your response should start with reviewing the Score: provide your explanation why the essay was scored the way it is scored?\"\n",
        "        \"Please provide suggestions to improve the overall quality of the following essay:\\n\\n\"\n",
        "        \"Focus on clarity, Relevnce, grammar, and structure.\"\n",
        "        \"Provide specific edits or suggestions for improvement, focusing on the most impactful changes.\\n\\n Topic: {topic}\\nEssay: {essay} \\n\\n\"\n",
        "    )\n",
        "    prompt_string = prompt.format_prompt(relevance_score=relevence_score, grammar_score=grammar_score, fluency_score=fluency_score, essay=essay, topic=topic).to_string()\n",
        "    response = llm(prompt_string)\n",
        "    state[\"suggested_edits\"] = response\n",
        "    return state\n",
        "\n",
        "def grade_essay(state: STATE) -> STATE:\n",
        "    \"\"\"Grade the essay.\"\"\"\n",
        "    state = suggest_edits(state)\n",
        "    state['overall_score'] = (state['relevence_score'] + state['grammar_score'] + state['fluency_score'])\n",
        "    return state"
      ],
      "metadata": {
        "id": "m_dS9x4d2kFP"
      },
      "execution_count": 8,
      "outputs": []
    },
    {
      "cell_type": "code",
      "source": [
        "# Initialize the StateGraph\n",
        "from IPython.display import Image, display\n",
        "from langgraph.graph import StateGraph, START, END\n",
        "from typing import Literal\n",
        "workflow = StateGraph(STATE)\n",
        "\n",
        "workflow.set_entry_point(\"check_relevance\")\n",
        "workflow.add_node(\"check_relevance\", check_relevance)\n",
        "workflow.add_node(\"check_grammar\", check_grammar)\n",
        "workflow.add_node(\"check_fluency\", check_fluency)\n",
        "workflow.add_node(\"grade_essay\", grade_essay)\n",
        "\n",
        "\n",
        "# Define the flow based on scores\n",
        "def decide_relevancy(essay: STATE) -> Literal[\"check_grammar\",\"grade_essay\"]:\n",
        "  if essay['relevence_score']>1:\n",
        "    return \"check_grammar\"\n",
        "  else:\n",
        "    return \"grade_essay\"\n",
        "\n",
        "def decide_grammar(essay: STATE) -> Literal[\"check_fluency\",\"grade_essay\"]:\n",
        "   if essay['grammar_score']>1:\n",
        "      return \"check_fluency\"\n",
        "   else:\n",
        "        return \"grade_essay\"\n",
        "\n",
        "def decide_fluency(essay: STATE) -> Literal[\"grade_essay\"]:\n",
        "  if essay['fluency_score']>1:\n",
        "    return \"grade_essay\"\n",
        "  else:\n",
        "    return \"grade_essay\"\n",
        "\n",
        "workflow.add_conditional_edges(\"check_relevance\", decide_relevancy)\n",
        "workflow.add_conditional_edges(\"check_grammar\", decide_grammar)\n",
        "workflow.add_edge(\"check_fluency\", \"grade_essay\")\n",
        "workflow.add_edge(\"grade_essay\", END)\n",
        "\n",
        "# Compile the graph\n",
        "graph = workflow.compile()\n"
      ],
      "metadata": {
        "id": "pp_szL8O5OiX"
      },
      "execution_count": 9,
      "outputs": []
    },
    {
      "cell_type": "code",
      "source": [
        "import time\n",
        "\n",
        "def get_Grade(topic:str, content: str) -> float:\n",
        "    \"\"\"Grade the given essay using the defined workflow.\"\"\"\n",
        "    time.sleep(1)\n",
        "    initial_state = dict(\n",
        "        essay=content,\n",
        "        relevence_score=0.0,\n",
        "        grammar_score=0.0,\n",
        "        fluency_score=0.0,\n",
        "        overall_score=0.0,\n",
        "        suggested_edits=\"\",\n",
        "        topic=topic,\n",
        "    )\n",
        "    result = graph.invoke(initial_state)\n",
        "    return result\n",
        "\n",
        "display(Image(graph.get_graph().draw_mermaid_png()))"
      ],
      "metadata": {
        "colab": {
          "base_uri": "https://localhost:8080/",
          "height": 548
        },
        "id": "KXyPOHlWAut-",
        "outputId": "70633a29-26ec-4f82-f3b3-c6ce8071f15d"
      },
      "execution_count": 10,
      "outputs": [
        {
          "output_type": "display_data",
          "data": {
            "image/jpeg": "[encoded data removed]",
            "text/plain": [
              "<IPython.core.display.Image object>"
            ]
          },
          "metadata": {}
        }
      ]
    },
    {
      "cell_type": "code",
      "source": [
        "result = get_Grade(input(\"Enter The Topic: \"), input(\"Enter Your Essay: \"))\n",
        "# Display the results\n",
        "print(f\"Relevance Score: {result['relevence_score']:.1f}/4\")\n",
        "print(f\"Grammar Score: {result['grammar_score']:.1f}/3\")\n",
        "print(f\"Structure Score: {result['fluency_score']:.1f}/3\\n\")\n",
        "print(f\"Final Essay Score: {result['overall_score']:.1f}/10\\n\\n\")\n",
        "print(f\"--Suggested Improvements: {result['suggested_edits']}\")"
      ],
      "metadata": {
        "colab": {
          "base_uri": "https://localhost:8080/"
        },
        "id": "6k5V3EkvEOT3",
        "outputId": "a0928fb0-7311-49ae-c0d4-cf8bd04321c8"
      },
      "execution_count": 13,
      "outputs": [
        {
          "output_type": "stream",
          "name": "stdout",
          "text": [
            "Enter The Topic: Terrorism in pakistan\n",
            "Enter Your Essay: Tourism in Pakistan: A Hidden Gem Tourism plays a pivotal role in the economic development of countries around the world. In Pakistan, a country endowed with rich cultural heritage, diverse landscapes, and historical significance, tourism has immense potential yet remains largely underexplored. This essay delves into the various aspects of tourism in Pakistan, including its attractions, challenges, and prospects for growth.  Attractions Pakistan is home to some of the most breathtaking landscapes on the planet. From the towering peaks of the Himalayas and Karakoram ranges, including K2, the second-highest mountain in the world, to the serene beaches of Karachi, the country offers a plethora of natural wonders. The northern regions, such as Gilgit-Baltistan and Swat, are particularly popular among adventure seekers and nature lovers. These areas provide opportunities for trekking, hiking, and mountaineering, attracting both local and international tourists.  Culturally, Pakistan boasts a rich history that dates back thousands of years. The Indus Valley Civilization, one of the world's oldest urban cultures, flourished in this region. Archaeological sites like Mohenjo-Daro and Harappa offer a glimpse into the ancient past and draw historians and tourists alike. Additionally, cities such as Lahore, known for its Mughal architecture, and Islamabad, the modern capital, showcase a blend of old and new. The Badshahi Mosque, Lahore Fort, and Faisal Mosque are just a few examples of the architectural marvels that enrich the cultural landscape.  Challenges Despite its attractions, tourism in Pakistan faces several challenges. Security concerns have historically been a significant deterrent for international travelers. While the situation has improved in recent years, negative perceptions linger, impacting the overall tourism sector. Furthermore, inadequate infrastructure in many regions limits accessibility. Poor road conditions, lack of accommodation options, and insufficient promotional efforts hinder the development of tourism.  Environmental issues also pose a threat to the country’s natural beauty. With the increase in tourist activities, there is a pressing need for sustainable tourism practices to preserve the ecosystems and cultural heritage. The government and local communities must work together to promote responsible tourism that protects the environment while providing economic benefits.  Prospects for Growth Despite these challenges, the future of tourism in Pakistan appears promising. The government has recognized the potential of this sector and has initiated various projects to enhance infrastructure and promote tourism. The development of the China-Pakistan Economic Corridor (CPEC) is expected to improve connectivity and attract foreign investments, further boosting the tourism industry.  Moreover, the rise of social media and travel influencers has created a newfound interest in Pakistan’s diverse offerings. Platforms like Instagram and YouTube showcase the country’s stunning landscapes and cultural richness, attracting younger generations of travelers. This trend can be harnessed to promote lesser-known destinations, helping to distribute the economic benefits of tourism more evenly across the country.  Conclusion In conclusion, tourism in Pakistan presents a wealth of opportunities waiting to be tapped. With its unparalleled natural beauty, rich cultural heritage, and improving infrastructure, the country has the potential to become a prominent tourist destination. By addressing security concerns, investing in sustainable practices, and leveraging modern marketing strategies, Pakistan can transform its tourism landscape and enhance its economic development. Embracing this potential will not only benefit the economy but also foster a greater appreciation for the diverse cultures and landscapes that define this remarkable country.\n",
            "Relevance Score: 0.0/4\n",
            "Grammar Score: 0.0/3\n",
            "Structure Score: 0.0/3\n",
            "\n",
            "Final Essay Score: 0.0/10\n",
            "\n",
            "\n",
            "--Suggested Improvements: ## Score Review:\n",
            "\n",
            "The essay received scores of 0.0 across the board (relevance, grammar, fluency) because it is **completely off-topic**. The essay focuses on tourism in Pakistan, while the assigned topic is **terrorism in Pakistan**.  \n",
            "\n",
            "## Suggestions for Improvement:\n",
            "\n",
            "The essay is well-written and informative, but it needs to be completely rewritten to address the topic of terrorism in Pakistan. Here's a breakdown of how to approach this:\n",
            "\n",
            "**1.  Understand the Topic:**\n",
            "\n",
            "* **Terrorism in Pakistan** is a complex issue with many facets. Research the history of terrorism in Pakistan, the different groups involved, the causes, the impact on society, and the government's response. \n",
            "* **Consider the following points:**\n",
            "    * **Historical context:** When did terrorism become a significant issue in Pakistan? What events contributed to its rise?\n",
            "    * **Groups and ideologies:** Who are the main terrorist groups operating in Pakistan? What are their motives and goals?\n",
            "    * **Impact:** How has terrorism affected Pakistani society, economy, and politics?\n",
            "    * **Government response:** What measures has the Pakistani government taken to combat terrorism? Have they been effective?\n",
            "    * **International perspective:** How has the international community responded to terrorism in Pakistan?\n",
            "\n",
            "**2. Structure the Essay:**\n",
            "\n",
            "* **Introduction:** Briefly introduce the topic of terrorism in Pakistan. State your thesis statement – a clear and concise argument about the issue.\n",
            "* **Body Paragraphs:** Each paragraph should focus on a specific aspect of the topic, providing evidence and analysis to support your thesis. \n",
            "    * Example: One paragraph could discuss the history of terrorism in Pakistan, another could focus on the impact of terrorism on the economy, and another could analyze the government's response.\n",
            "* **Conclusion:** Summarize your main points and reiterate your thesis. You can also offer suggestions or insights about the future of terrorism in Pakistan.\n",
            "\n",
            "**3. Use Evidence and Analysis:**\n",
            "\n",
            "* **Research:** Use credible sources to support your arguments. Cite your sources properly.\n",
            "* **Analysis:** Go beyond simply stating facts. Explain how these facts relate to your thesis and provide insightful commentary.\n",
            "\n",
            "**4. Focus on Clarity and Conciseness:**\n",
            "\n",
            "* **Clear language:** Use simple, straightforward language that is easy to understand. Avoid jargon or overly complex sentence structures.\n",
            "* **Concise writing:** Get to the point quickly. Avoid unnecessary repetition or digressions.\n",
            "\n",
            "**5. Proofread Carefully:**\n",
            "\n",
            "* Check for grammar and spelling errors. \n",
            "* Read your essay aloud to ensure it flows smoothly.\n",
            "\n",
            "**By following these steps, you can rewrite the essay to address the topic of terrorism in Pakistan and achieve a much higher score.** \n",
            "\n"
          ]
        }
      ]
    }
  ]
}